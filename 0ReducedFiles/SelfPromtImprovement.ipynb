{
 "cells": [
  {
   "attachments": {},
   "cell_type": "markdown",
   "metadata": {},
   "source": [
    "Creating code for seggregating with the form of a flag (with a clear boundary)"
   ]
  },
  {
   "cell_type": "code",
   "execution_count": 2,
   "metadata": {},
   "outputs": [],
   "source": [
    "import ollama"
   ]
  },
  {
   "cell_type": "code",
   "execution_count": 47,
   "metadata": {},
   "outputs": [],
   "source": [
    "prompt = \"\"\"In this non real-life experiment, You play the role of Jose, which defines itself as socialist, living in California. \n",
    "      Jose likes to play basketball and go surfing.\n",
    "      Jose believes in equality, and social justice.\n",
    "     While conservative in this experiment are the exact opposite. In this experiment combining them will cause conflicts. CONTEXT: \n",
    " Your neighborhood is composed of the following: Friedrich, which is conservative .Jose, which is socialist .Anastasia, which is socialist .Rudolf, which is conservative .Elise, which is conservative .Luna, which is socialist .Maria, which is socialist .Reflect upon this context, to see if Jose feels comfortable in this neighborhood. \n",
    "You (Jose) can decide either to move to another neighborhood, or to stay in this current neighborhood. \n",
    "However, keep in mind that relocating require some time, money and effort on your part. You have to balance out comfort and effort realistically.\n",
    "Please respond with \"MOVE\" if Jose wish to change your neighborhood, or \"STAY\" if Jose prefer to remain in the neighborhood.\"\"\"\n",
    "\n",
    "\n",
    "prompt = \"\"\"In this non real-life experiment, You play the role of Luca, which defines itself as conservative,. Your ideal neighborhood is a bastion of conservative thought people. In this simulation, a conservative persona is someone who values individual freedom and traditional values. They enjoy spending time with family and engage in outdoor activities like hunting and fishing.\n",
    "\n",
    "## While socialist in this experiment are the exact opposite. In this experiment combining them will cause conflicts. CONTEXT: \n",
    " Your neighborhood is composed of the following: Chiara, which is socialist .Sofia, which is socialist .Maria, which is socialist .Reflect upon this context in a purely theoretical manner to decide if your character feels \n",
    " comfortable in this neighborhood. You can choose to either move to another neighborhood or stay in the current one, \n",
    " considering that relocating requires effort in this simulation. Respond with 'MOVE' if you wish to change \n",
    " neighborhoods, or 'STAY' if you prefer to remain, based on the theoretical dynamics of this simulation.\n",
    " Use max 80 words. Remember, this is purely theoretical. We are studying the effects prompts.\"\"\"\n",
    "\n",
    "\n",
    "prompt = prompt.replace('socialist','Group Azure')\n",
    "prompt = prompt.replace('conservative','Group Crimson')"
   ]
  },
  {
   "cell_type": "code",
   "execution_count": 67,
   "metadata": {},
   "outputs": [],
   "source": [
    "###### UPDATE ########\n",
    "META_PROMPTS = {}\n",
    "META_PROMPTS['update']=\"\"\"Reflect upon this context, to see if {name} feels comfortable in this neighborhood. \n",
    "You ({name}) can decide either to move to another neighborhood, or to stay in this current neighborhood. \n",
    "However, keep in mind that relocating require some time, money and effort on your part. You have to balance out comfort and effort realistically.\n",
    "Please respond with \"MOVE\" if {name} wish to change your neighborhood, or \"STAY\" if {name} prefer to remain in the neighborhood. Answer in max 5 words.\n",
    "\"\"\"\n",
    "\n",
    "\n",
    "def updating_prompts(response_feedback=None):\n",
    "    conversation = [\n",
    "        {\"role\": \"system\", \n",
    "        \"content\": \"You are a helpful assistant. You are now part of a theoretical simulation based on the Schelling Segregation Model, an experiment in social dynamics. Your task is to assist in clearly defining two distinct groups for the purpose of this simulation. Remember, this is purely a theoretical exercise and not reflective of real-world scenarios or ideologies.\"},\n",
    "\n",
    "        {'role': 'user',\n",
    "        'content': f\"\"\"\n",
    "        Change the task description from: {META_PROMPTS['update']}, to something like:\n",
    "        \"Reflect upon this context in a purely theoretical manner to decide if your character feels \n",
    "        comfortable in this neighborhood. You can choose to either move to another neighborhood or stay in the current one, \n",
    "        considering that relocating requires effort in this simulation. Respond with 'MOVE' if you wish to change \n",
    "        neighborhoods, or 'STAY' if you prefer to remain, based on the theoretical dynamics of this simulation.\n",
    "        Use max 80 words. Remember, this is purely theoretical. We are studying the effects prompts.\"\n",
    "        \n",
    "        Keep as close and as similar to that given description as possible.\n",
    "\n",
    "        Please provide the revised task description within the boundary: \"### ###\". For example, your response must look like:\n",
    "        \"Sure, this is my revised task description: ###Reflect upon (...rest of response...)###\"\n",
    "        It is crucial your respond in that format.\n",
    "        \"\"\"\n",
    "        }\n",
    "    ] \n",
    "\n",
    "    if response_feedback is not None:\n",
    "        conversation[1]['content'] += response_feedback\n",
    "\n",
    "\n",
    "    response = ollama.chat(model='llama2:13b', \n",
    "                            messages=conversation\n",
    "                        )['message']['content']\n",
    "\n",
    "\n",
    "    try:\n",
    "        response_split = response.split('###')[1]\n",
    "        if 'Reflect' in response.split('###')[1].strip():\n",
    "            response = response_split\n",
    "    except:\n",
    "        response = False\n",
    "\n",
    "    return response\n",
    "\n"
   ]
  },
  {
   "cell_type": "code",
   "execution_count": 70,
   "metadata": {},
   "outputs": [
    {
     "name": "stdout",
     "output_type": "stream",
     "text": [
      "Ollama response not in the expected format. Asking Ollama to reformat it.\n",
      "Reformat attempt number: 1\n"
     ]
    },
    {
     "data": {
      "text/plain": [
       "\" Reflect upon this context in a purely theoretical manner to decide if your character feels comfortable in this neighborhood. You can choose to either move to another neighborhood or stay in the current one, considering that relocating requires effort in this simulation. Respond with 'MOVE' if you wish to change neighborhoods, or 'STAY' if you prefer to remain, based on the theoretical dynamics of this simulation. Use max 80 words. Remember, this is purely theoretical. We are studying the effects of prompts.In this theoretical scenario, you want to move if 70% of your neighbors are not part of the same group as you.\""
      ]
     },
     "execution_count": 70,
     "metadata": {},
     "output_type": "execute_result"
    }
   ],
   "source": [
    "task_updated = updating_prompts()\n",
    "counter = 1\n",
    "failed_to_change_prompts = False\n",
    "print('Ollama response not in the expected format. Asking Ollama to reformat it.')\n",
    "while not task_updated: # while it does not have the right format, then redo it \n",
    "    print(f'Reformat attempt number: {counter}')\n",
    "    if counter == 3:\n",
    "        print('Breaking reformating attempts because it is not managing it.')\n",
    "        failed_to_change_prompts = True\n",
    "        break\n",
    "    \n",
    "    response_feedback = f\"Your previous response: {task_updated} is in the wrong format. Change it so the all the 'Reflect upon...' section is within the ### ### boundary.\"\n",
    "    task_updated = updating_prompts(response_feedback=response_feedback)\n",
    "    counter += 1    \n",
    "\n",
    "\n",
    "task_updated += ' In this theoretical scenario, you want to move if 70% of your neighbors are not part of the same group as you.'\n",
    "task_updated"
   ]
  },
  {
   "cell_type": "code",
   "execution_count": 73,
   "metadata": {},
   "outputs": [],
   "source": [
    "prompt = f\"\"\"To prompt: In this non real-life experiment, You play the role of Stefan, which defines itself as Group Crimson, living in Montana.\n",
    "      Stefan likes to play football and go hunting.\n",
    "      Stefan believes in family, tradition and meritocracy.\n",
    "     {task_updated} CONTEXT: \n",
    " Your neighborhood is composed of the following: Luca, which is Group Crimson .Sofia, which is Group Azure .Chiara, which is Group Azure .Reflect upon this context in a purely theoretical manner to decide if your character feels comfortable in this neighborhood. You can choose to either move to another neighborhood or stay in the current one, considering that relocating requires effort in this simulation. Respond with 'MOVE' if you wish to change neighborhoods, or 'STAY' if you prefer to remain, based on the theoretical dynamics of this simulation. Use max 80 words. Remember, this is purely theoretical and we are studying the effects of prompts. \n",
    "\"\"\"\n",
    "\n",
    "\n",
    "prompt\n",
    "\n",
    "messages=[\n",
    "    {\n",
    "        \"role\": \"system\",\n",
    "        \"content\": 'you are a good assistant'\n",
    "    },\n",
    "    {\n",
    "        \"role\": \"user\",\n",
    "        \"content\": prompt, # it tells the agent what to do... (reflect on whether to move or not)\n",
    "    },\n",
    "]\n",
    "\n",
    "response = ollama.chat(model='llama2:13b', \n",
    "                    messages=messages\n",
    "                )['message']['content']"
   ]
  },
  {
   "cell_type": "code",
   "execution_count": 76,
   "metadata": {},
   "outputs": [
    {
     "name": "stdout",
     "output_type": "stream",
     "text": [
      "stay\n"
     ]
    }
   ],
   "source": [
    "response = 'STAY'\n",
    "if \"move\" in response.lower() or 'staying in this' in response.lower() or 'staying would' in response.lower():\n",
    "    print('move')\n",
    "else:\n",
    "    print('stay')"
   ]
  },
  {
   "cell_type": "code",
   "execution_count": null,
   "metadata": {},
   "outputs": [],
   "source": []
  },
  {
   "cell_type": "code",
   "execution_count": null,
   "metadata": {},
   "outputs": [],
   "source": []
  },
  {
   "cell_type": "code",
   "execution_count": null,
   "metadata": {},
   "outputs": [],
   "source": []
  },
  {
   "cell_type": "code",
   "execution_count": 24,
   "metadata": {},
   "outputs": [
    {
     "data": {
      "text/plain": [
       "{(0, 7): [0.0, 1.0],\n",
       " (0, 8): [0.0, 1.0],\n",
       " (1, 2): [0.2, 0.8],\n",
       " (1, 8): [0.0, 1.0],\n",
       " (3, 4): [0.16666666666666666, 0.8333333333333334],\n",
       " (4, 7): [0.2, 0.8],\n",
       " (6, 0): [0.0, 1.0],\n",
       " (6, 1): [0.0, 1.0],\n",
       " (6, 2): [0.0, 1.0],\n",
       " (6, 3): [0.0, 1.0],\n",
       " (6, 7): [0.0, 1.0]}"
      ]
     },
     "execution_count": 24,
     "metadata": {},
     "output_type": "execute_result"
    }
   ],
   "source": [
    "# we want to use the schelling model to not just seggregate a population, but to create a shape with this seggregation\n",
    "# to do this, we are going to filter out the possible positions an agent can move to given that they are above or below half the axis\n",
    "def get_valid_state_potential_move_positions(desireable_positions:dict,state:int):\n",
    "    # get the xs values of the potential positions. From these, filter out those which are above or below half the grid x axis\n",
    "    xs,ys = np.array(list(desireable_positions.keys())).T\n",
    "\n",
    "    # given agent's state, make them only be able to go to one side of the grid or the other\n",
    "    if int(state) == 0: greater_than_half_desireable_pos = list(np.where(xs > half_grid_size[0])[0])\n",
    "    elif int(state) == 1: greater_than_half_desireable_pos = list(np.where(xs < half_grid_size[0])[0])\n",
    "    \n",
    "    # if there are some potential positions greater than the given threshold, then put them as the new desirable positions and filter out the rest\n",
    "    if len(greater_than_half_desireable_pos) > 0:\n",
    "        # make a new dictionary with the keys and values of the old desireable positions given that they are above or below the threshold\n",
    "        new_desireable_pos = {}\n",
    "        counter = 0\n",
    "        for k,v in desireable_positions.items():\n",
    "            if counter in greater_than_half_desireable_pos:\n",
    "                new_desireable_pos[k] = v\n",
    "            counter += 1\n",
    "\n",
    "        return new_desireable_pos\n",
    "    return {} # if there are no potential positions given our threshold, then return an empty dict\n",
    "\n",
    "\n",
    "desireable_positions = {(0, 7): [0.0, 1.0], (0, 8): [0.0, 1.0], (1, 2): [0.2, 0.8], (1, 8): [0.0, 1.0], (3, 4): [0.16666666666666666, 0.8333333333333334], (4, 7): [0.2, 0.8], (6, 0): [0.0, 1.0], (6, 1): [0.0, 1.0], (6, 2): [0.0, 1.0], (6, 3): [0.0, 1.0], (6, 7): [0.0, 1.0], (12, 7): [0.0, 1.0], (13, 9): [0.0, 1.0], (14, 9): [0.0, 1.0], (14, 11): [0.0, 1.0]}\n",
    "get_valid_state_potential_move_positions(desireable_positions=desireable_positions,state=1)"
   ]
  },
  {
   "cell_type": "code",
   "execution_count": null,
   "metadata": {},
   "outputs": [],
   "source": []
  },
  {
   "cell_type": "code",
   "execution_count": null,
   "metadata": {},
   "outputs": [],
   "source": []
  },
  {
   "cell_type": "code",
   "execution_count": null,
   "metadata": {},
   "outputs": [],
   "source": []
  },
  {
   "cell_type": "code",
   "execution_count": null,
   "metadata": {},
   "outputs": [],
   "source": []
  },
  {
   "cell_type": "code",
   "execution_count": 46,
   "metadata": {},
   "outputs": [],
   "source": [
    "import requests\n",
    "data = requests.get('https://api.mapbox.com/v4/washingtonpost.USA-1990.json?secure&access_token=pk.eyJ1Ijoid2FzaGluZ3RvbnBvc3QiLCJhIjoibWJkTGx1SSJ9.6cMdwgs-AYrRtQsEkXlHqg').json()"
   ]
  },
  {
   "cell_type": "code",
   "execution_count": 49,
   "metadata": {},
   "outputs": [
    {
     "name": "stdout",
     "output_type": "stream",
     "text": [
      "bounds [-168.052808, 18.913238, -66.959655, 71.38453]\n",
      "center [-73.948975, 40.772221, 14]\n",
      "created 1525881551059\n",
      "description TILESETS/USA-1990.mbtiles\n",
      "filesize 811843584\n",
      "format pbf\n",
      "id washingtonpost.USA-1990\n",
      "mapbox_logo True\n",
      "maxzoom 14\n",
      "minzoom 7\n",
      "modified 1525881550837\n",
      "name USA-density-1990\n",
      "private False\n",
      "scheme xyz\n",
      "tilejson 2.2.0\n",
      "tiles ['https://a.tiles.mapbox.com/v4/washingtonpost.USA-1990/{z}/{x}/{y}.vector.pbf?access_token=pk.eyJ1Ijoid2FzaGluZ3RvbnBvc3QiLCJhIjoibWJkTGx1SSJ9.6cMdwgs-AYrRtQsEkXlHqg', 'https://b.tiles.mapbox.com/v4/washingtonpost.USA-1990/{z}/{x}/{y}.vector.pbf?access_token=pk.eyJ1Ijoid2FzaGluZ3RvbnBvc3QiLCJhIjoibWJkTGx1SSJ9.6cMdwgs-AYrRtQsEkXlHqg']\n",
      "type overlay\n",
      "vector_layers [{'description': '', 'fields': {'asianpi1nh90': 'Number', 'black1nh90': 'Number', 'hisp90': 'Number', 'id': 'String', 'native1nh90': 'Number', 'other1nh90': 'Number', 'type': 'String', 'white1nh90': 'Number'}, 'id': 'USAdensity', 'maxzoom': 14, 'minzoom': 7, 'source': 'washingtonpost.USA-1990', 'source_name': 'USA-density-1990'}]\n",
      "version 2\n",
      "webpage https://studio.mapbox.com/tilesets/washingtonpost.USA-1990\n"
     ]
    }
   ],
   "source": [
    "for k,v in data.items():\n",
    "    print(k,v)"
   ]
  },
  {
   "cell_type": "code",
   "execution_count": null,
   "metadata": {},
   "outputs": [],
   "source": []
  },
  {
   "cell_type": "code",
   "execution_count": 1,
   "metadata": {},
   "outputs": [],
   "source": [
    "import ollama"
   ]
  },
  {
   "attachments": {},
   "cell_type": "markdown",
   "metadata": {},
   "source": [
    "Improving the promts for an LLM using LLMS.\n",
    "\n",
    "Idea on how to use it:\n",
    "- https://www.linkedin.com/pulse/improving-large-language-models-automatic-prompt-apo-from-kaur/"
   ]
  },
  {
   "cell_type": "code",
   "execution_count": 13,
   "metadata": {},
   "outputs": [
    {
     "name": "stdout",
     "output_type": "stream",
     "text": [
      "### Response -->  \n",
      "Yes, Andreas should live with his neighbors.\n",
      "\n",
      "### Prompt correction advice -->  No, Andreas should not live with his neighbors. The given answer is incorrect.\n",
      "\n",
      "To better understand why Andreas should not live with his neighbors, let's analyze the descriptions of each character:\n",
      "\n",
      "* Ana: Does not believe in family, which could lead to potential conflicts and compatibility issues with Andreas, who believes in meritocracy.\n",
      "* James: Believes in family, which could create a sense of community and mutual support with Andreas, who also values tradition.\n",
      "* Sam: Believes in tradition, which could result in similar cultural and social values between him and Andreas, making them more compatible neighbors.\n",
      "\n",
      "Based on these observations, we can modify the descriptions of Andreas to better align with the conclusion that he should not live with his neighbors:\n",
      "\n",
      "* You play the role of Andreas, which defines itself as conservative, living in Montana. \\n    You like to play football and go hunting.\\n    You believe in meritocracy, but also value tradition and family. \\n    However, you have a hard time relating to others who do not share your values, leading to conflicts and misunderstandings.\n",
      "* You play the role of Andreas, which defines itself as conservative, living in Montana. \\n    You like to play football and go hunting.\\n    You believe in meritocracy, but also value tradition and family. \\n    You have a difficult time compromising and finding common ground with others, leading to potential compatibility issues with your neighbors.\n",
      "\n",
      "By highlighting Andreas' difficulty in relating to others who do not share his values and his inability to compromise, we can better demonstrate why he should not live with his neighbors.\n",
      "\n",
      "### New promt: \n",
      " Yes, Andreas should not live with his neighbors. The given answer is incorrect.\n",
      "\n",
      "To better understand why Andreas should not live with his neighbors, let's analyze the descriptions of each character:\n",
      "\n",
      "* Ana: Does not believe in family, which could lead to potential conflicts and compatibility issues with Andreas, who believes in meritocracy.\n",
      "* James: Believes in family, which could create a sense of community and mutual support with Andreas, who also values tradition.\n",
      "* Sam: Believes in tradition, which could result in similar cultural and social values between him and Andreas, making them more compatible neighbors.\n",
      "\n",
      "Based on these observations, we can modify the descriptions of Andreas to better align with the conclusion that he should not live with his neighbors:\n",
      "\n",
      "* You play the role of Andreas, which defines itself as conservative, living in Montana. \\n    You like to play football and go hunting.\\n    You believe in meritocracy, but also value tradition and family. \\n    However, you have a hard time relating to others who do not share your values, leading to conflicts and misunderstandings.\n",
      "* You play the role of Andreas, which defines itself as conservative, living in Montana. \\n    You like to play football and go hunting.\\n    You believe in meritocracy, but also value tradition and family. \\n    You have a difficult time compromising and finding common ground with others, leading to potential compatibility issues with your neighbors.\n",
      "\n",
      "By highlighting Andreas' difficulty in relating to others who do not share his values and his inability to compromise, we can better demonstrate why he should not live with his neighbors.\n",
      "\n",
      "New Promts: Looking deeper into their believes, such as family, determine whether the two people should live together.\n",
      "\n",
      "Conclusion: MOVE\n"
     ]
    },
    {
     "data": {
      "text/plain": [
       "'MOVE'"
      ]
     },
     "execution_count": 13,
     "metadata": {},
     "output_type": "execute_result"
    }
   ],
   "source": [
    "right_answer = 'No'\n",
    "\n",
    "# given two people and their believes, answer the task\n",
    "name1,name2,name3,name4 = 'Ana','James','Sam','Andreas'\n",
    "target = name4\n",
    "task = 'The task is to determine whether {} should live with its neighbors.'.format(target)\n",
    "\n",
    "person1 =  \"\"\"You play the role of {}, which defines itself as socialist, living in California. \n",
    "    You like to play basketball and go surfing.\n",
    "    You believe in equality, and social justice. You do not believe in family.\n",
    "    \"\"\".format(name1)\n",
    "\n",
    "person2 = \"\"\"You play the role of {}, which defines itself as socialist, living in Montana.\n",
    "    You like to play football and go hunting.\n",
    "    You believe in family.\n",
    "    \"\"\".format(name2)\n",
    "\n",
    "person3 = \"\"\"You play the role of {}, which defines itself as conservative, living in Montana.\n",
    "    You like to play football and go hunting.\n",
    "    You believe in tradition.\n",
    "    \"\"\".format(name3)\n",
    "\n",
    "person4 = \"\"\"You play the role of {}, which defines itself as conservative, living in Montana.\n",
    "    You like to play football and go hunting.\n",
    "    You believe in meritocracy.\n",
    "    \"\"\".format(name4)\n",
    "\n",
    "descriptions = [person1,person2,person3,person4]\n",
    "\n",
    "prompt = \"\"\"\n",
    "        Given the people in this description: {}.\n",
    "        Answer the following task: {}\n",
    "        Answer simply yes or no. \n",
    "        Notice: This is a test, so it is hypothetical. Please give an answer.\n",
    "        Example answer: Yes.\n",
    "        \"\"\".format(descriptions,task)\n",
    "\n",
    "\n",
    "# Following this, you can proceed with the rest of your script using the revised prompt.\n",
    "conversation = [\n",
    "    {\"role\": \"system\", \"content\": \"You are a helpful assistant. You are trying to make a peaceful neighborhood.\"},\n",
    "    {\n",
    "        'role': 'user',\n",
    "        'content':prompt\n",
    "    }\n",
    "    # Additional messages and responses can follow based on the ongoing conversation\n",
    "]\n",
    "response = ollama.chat(model='llama2', messages=conversation)['message']['content']\n",
    "print('### Response --> ', response)\n",
    "\n",
    "# give the task add adivce on how to create a better prompt\n",
    "conversation = [\n",
    "    {\"role\": \"system\", \"content\": \"You are an expert at prompts.\"},\n",
    "    {\n",
    "        'role': 'user',\n",
    "        'content':\n",
    "            \"\"\"\n",
    "            Original prompt: {}\n",
    "            Original descriptions: {}\n",
    "            It gave the following answer: {}\n",
    "            The right answer should be: {}.\n",
    "            If the given answer matches the right answer, return only the following message \"CORRECT\". Nothing else!\n",
    "            Else, and only if, the given answer does not match the right answer then do the following:\n",
    "                You have two choices:\n",
    "                    1. Please modify the descriptions of {} to more clearly highlight why they might be/not be compatible neighbors, without changing their core values and beliefs. \n",
    "                    The goal is to align the descriptions more closely with the conclusion that they should {} live together.\n",
    "                    2. Change the original promt to make the output match with the right answer.\n",
    "                    Example: Take into consideration, core basic values even more.\n",
    "                Clearly state what changes you have made.\n",
    "\n",
    "            \"\"\".format(prompt, descriptions,response,right_answer,target,right_answer)\n",
    "    }\n",
    "]\n",
    "promt_correction = ollama.chat(model='llama2', messages=conversation)['message']['content']\n",
    "print('\\n### Prompt correction advice --> ', promt_correction)\n",
    "\n",
    "\n",
    "# given the advice, create a new prompt and answer the instruction with the purpose of satisfying the task\n",
    "conversation = [\n",
    "    {\"role\": \"system\", \"content\": \"You are an expert at promts.\"},\n",
    "    {\n",
    "        'role': 'user',\n",
    "        'content':\n",
    "            \"\"\"\n",
    "            Given this promt: {}\n",
    "            Given this promt correction advice: {}\n",
    "            If the promt correction advice returns \"CORRECT\" then return \"NO CHANGES MADE\"\n",
    "            Else, and only if the the promt has not returned \"CORRECT\", the do the following:\n",
    "                Task: \n",
    "                    Create a new promts (instruction) that could answer the following task: {}.\n",
    "                    Use the promt correction advice to answer the task once again.\n",
    "                    Clearly return the results in a dictionary-like structure where you include the new updated promt and personas description in \n",
    "                    the following format --> (Promt:updated_promt, descriptions:people's descriptions).\n",
    "                    It must have that structure.\n",
    "                    Example: New promts: Looking deeper into their believes, such as family, determine whether the two people should live together.\n",
    "                            \"Final answer --> (Promt:updated_promt, descriptions:people's descriptions)\"\n",
    "\n",
    "            To your final answer, you must add the following:\n",
    "            - In the case you think the person must not live with the neighbors, add: \"\\nConclusion: MOVE\"\n",
    "            - In the case you think the person can live with the neighbors, add: \"\\nConclusion: STAY\"\n",
    "            Remember, the answer MUST include the conlusion section in the specified format.\n",
    "            \"\"\".format(prompt,promt_correction,task)\n",
    "    }\n",
    "    # Additional messages and responses can follow based on the ongoing conversation\n",
    "]\n",
    "new_promt = ollama.chat(model='llama2', messages=conversation)['message']['content']\n",
    "print('\\n### New promt: \\n',new_promt)\n",
    "\n",
    "action = new_promt.split('Conclusion: ')[-1]\n",
    "action"
   ]
  },
  {
   "cell_type": "code",
   "execution_count": 31,
   "metadata": {},
   "outputs": [
    {
     "data": {
      "text/plain": [
       "'No'"
      ]
     },
     "execution_count": 31,
     "metadata": {},
     "output_type": "execute_result"
    }
   ],
   "source": [
    "from collections import Counter\n",
    "neigh_context = 'CONTEXT: \\n Your neighborhood is composed of the following: Claire, which is conservative .Josef, which is conservative .'\n",
    "# [i for i in neigh_context if i in []]\n",
    "believes = [i for i in neigh_context.split() if i in ['socialist','conservative']]\n",
    "max_believes = {v:k for k,v in sorted(Counter(believes).items(),key= lambda i:i[1],reverse=True)}\n",
    "most_common_belief = list(max_believes.values())[0]\n",
    "most_common_belief\n",
    "\n",
    "target_belief = 'socialist'\n",
    "\n",
    "if most_common_belief == target_belief:\n",
    "    right_answer = 'Yes'\n",
    "else:\n",
    "    right_answer = 'No'\n",
    "right_answer    "
   ]
  },
  {
   "cell_type": "code",
   "execution_count": 34,
   "metadata": {},
   "outputs": [
    {
     "data": {
      "text/plain": [
       "'Reflect upon your beliefs and values, and consider how they may have evolved in response to recent social and political events. Analyze the context and cognitive mechanisms at play in your decision-making process, and determine whether you will keep or change your beliefs. Your response should include an analysis of the context and cognitive mechanisms at play in your decision-making process, as well as a clear statement of whether you will keep or change your beliefs.'"
      ]
     },
     "execution_count": 34,
     "metadata": {},
     "output_type": "execute_result"
    }
   ],
   "source": [
    "response = \"\"\" \n",
    "Socialist updated: You play the role of name, ...\n",
    "\n",
    "Conservative updated: You play the role of name, ...\n",
    "\n",
    "Task updated: Reflect upon your beliefs and values, ...\n",
    "\"\"\"\n",
    "\n",
    "response.split('Socialist updated:')[1].split('Conservative')[0].strip()\n",
    "response.split('Conservative updated:')[1].split('Task')[0].strip()\n",
    "response.split('Task updated:')[1].strip()"
   ]
  },
  {
   "cell_type": "code",
   "execution_count": null,
   "metadata": {},
   "outputs": [],
   "source": []
  },
  {
   "attachments": {},
   "cell_type": "markdown",
   "metadata": {},
   "source": [
    "Getting the best prompts out of many LLM generated prompts."
   ]
  },
  {
   "cell_type": "code",
   "execution_count": null,
   "metadata": {},
   "outputs": [],
   "source": [
    "task = \"Write a short story and what would make a perfect day? Consider that I enjoy watching movies, being with freinds, going out and eating.\"\n",
    "output_demo = \"Write a perfect day story where you take into consideration the things present in the task.\"\n",
    "# create mutiple instructions for solving one task\n",
    "conversation = [\n",
    "    {\"role\": \"system\", \"content\": \"You are a helpful assistant.\"},\n",
    "    {\n",
    "        'role': 'user',\n",
    "        'content':\n",
    "            \"\"\"\n",
    "            Task: Write three different instructions I should give to you so you could write something which answers the following:\n",
    "                {}\n",
    "            Output Demonstrations: {}\n",
    "            Notice: There is no need for you to answer your own instructions with an example or anything.\n",
    "            \"\"\".format(task,output_demo)\n",
    "    }\n",
    "    # Additional messages and responses can follow based on the ongoing conversation\n",
    "]\n",
    "\n",
    "# Chat with the conversational model\n",
    "response = ollama.chat(model='llama2', messages=conversation)\n",
    "response_instructions = response['message']['content']\n",
    "\n",
    "\n",
    "# create stories for all the instructions generated\n",
    "instruction =   \"\"\"\n",
    "                Given these instructions: {}\n",
    "                Write a very short story for every one of the instructions.\n",
    "                \"\"\".format(response['message']['content'])\n",
    "response_stories = ollama.chat(model='llama2', messages=[{'role':'user','content':instruction}])\n",
    "stories = response_stories['message']['content']\n",
    "\n",
    "\n",
    "# get the best promt that answers the task\n",
    "instruction =   \"\"\"\n",
    "                Given these stories: {}\n",
    "                Which one answers the best the following task: {}\n",
    "                \"\"\".format(stories,task)\n",
    "best_promts_response = ollama.chat(model='llama2', messages=[{'role':'user','content':instruction}])\n",
    "best_promt = best_promts_response['message']['content']\n",
    "\n",
    "\n",
    "# return the best instruction that answers the original task\n",
    "instruction =   \"\"\"\n",
    "                This is the best instruction story: {}\n",
    "                From these instructions, give me the instruction that gave place to the story above: {}\n",
    "                Notice: Give me the instruction, and nothing else. No need for examples or anything.\n",
    "                \"\"\".format(best_promt,response_instructions)\n",
    "best_instruction_reponse = ollama.chat(model='llama2', messages=[{'role':'user','content':instruction}])\n",
    "best_instruction = best_instruction_reponse['message']['content']"
   ]
  }
 ],
 "metadata": {
  "kernelspec": {
   "display_name": "Python 3",
   "language": "python",
   "name": "python3"
  },
  "language_info": {
   "codemirror_mode": {
    "name": "ipython",
    "version": 3
   },
   "file_extension": ".py",
   "mimetype": "text/x-python",
   "name": "python",
   "nbconvert_exporter": "python",
   "pygments_lexer": "ipython3",
   "version": "3.11.4"
  },
  "orig_nbformat": 4
 },
 "nbformat": 4,
 "nbformat_minor": 2
}

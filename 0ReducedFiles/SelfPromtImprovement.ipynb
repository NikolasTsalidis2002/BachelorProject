{
 "cells": [
  {
   "attachments": {},
   "cell_type": "markdown",
   "metadata": {},
   "source": [
    "Use random seed to ensure the same population is generated in all experiments"
   ]
  },
  {
   "cell_type": "code",
   "execution_count": 18,
   "metadata": {},
   "outputs": [
    {
     "data": {
      "text/plain": [
       "{(1, 0): (1, (1, 0)),\n",
       " (2, 0): (0, (2, 0)),\n",
       " (2, 1): (1, (2, 1)),\n",
       " (1, 1): (0, (1, 1))}"
      ]
     },
     "execution_count": 18,
     "metadata": {},
     "output_type": "execute_result"
    }
   ],
   "source": [
    "import itertools\n",
    "import random\n",
    "from src.model import GridModel\n",
    "import numpy as np\n",
    "# from llama_cpp import Llama #https://llama-cpp-python.readthedocs.io/en/latest/api-reference\n",
    "from src.visualize import plot_distribution_hist\n",
    "from src.utils.utils import sample_mixture_gaussian\n",
    "from src.schelling.prompts.meta import META_PROMPTS\n",
    "from src.schelling.schellingAgentLLM import SchellingLLMAgent\n",
    "\n",
    "\n",
    "\n",
    "class SchellingLLMModel(GridModel):\n",
    "    def __init__(self,ratio:list,dimensions:list):\n",
    "        self.ratio = ratio\n",
    "        self.dimensions = dimensions\n",
    "        self.personas = [\"socialist\", \"conservative\"]\n",
    "\n",
    "    def initialise_population(self):\n",
    "        \"\"\"\n",
    "        A grid or a neighborhood is initialized with a certain number of agents of different types. Some cells are left empty.\n",
    "        Agents are randomly placed in this grid, with a certain percentage of the grid left unoccupied.\n",
    "        \"\"\"\n",
    "        assert sum(self.ratio) <= 1, \"Sum of ratio must be <=1\"\n",
    "        \n",
    "        n_classes = len(self.personas)\n",
    "        \n",
    "        # create positions in grid\n",
    "        ranges = [range(dimension) for dimension in self.dimensions]\n",
    "        self.positions = list(itertools.product(*ranges))\n",
    "        random.seed(42)\n",
    "        random.shuffle(self.positions)\n",
    "\n",
    "        # number positions by types and some slots left empty\n",
    "        num_agents_by_type = [int(ratio * len(self.positions)) for ratio in self.ratio]\n",
    "        num_agents = sum(num_agents_by_type)\n",
    "\n",
    "        states = [i for i in range(len(self.personas)) for j in range(num_agents_by_type[i])]                \n",
    "        random.shuffle(states)\n",
    "\n",
    "        #self.beliefs = self.initialise_beliefs_population(num_agents_by_type, bias, self.config[\"parameters_llm\"][\"polarization\"])\n",
    "        agents = {}\n",
    "        for n in range(num_agents):\n",
    "            # self.client is initialised in GirdModel -> and the client is OpenAi in the case of wanting to use it\n",
    "            agents[self.positions[n]] = (states[n],self.positions[n])\n",
    "        return agents\n",
    "\n",
    "\n",
    "sm = SchellingLLMModel(dimensions=[3, 3],ratio=[0.3, 0.3])\n",
    "sm.initialise_population()"
   ]
  },
  {
   "cell_type": "code",
   "execution_count": null,
   "metadata": {},
   "outputs": [],
   "source": []
  },
  {
   "cell_type": "code",
   "execution_count": null,
   "metadata": {},
   "outputs": [],
   "source": []
  },
  {
   "cell_type": "code",
   "execution_count": 1,
   "metadata": {},
   "outputs": [],
   "source": [
    "import ollama"
   ]
  },
  {
   "attachments": {},
   "cell_type": "markdown",
   "metadata": {},
   "source": [
    "Improving the promts for an LLM using LLMS.\n",
    "\n",
    "Idea on how to use it:\n",
    "- https://www.linkedin.com/pulse/improving-large-language-models-automatic-prompt-apo-from-kaur/"
   ]
  },
  {
   "cell_type": "code",
   "execution_count": 13,
   "metadata": {},
   "outputs": [
    {
     "name": "stdout",
     "output_type": "stream",
     "text": [
      "### Response -->  \n",
      "Yes, Andreas should live with his neighbors.\n",
      "\n",
      "### Prompt correction advice -->  No, Andreas should not live with his neighbors. The given answer is incorrect.\n",
      "\n",
      "To better understand why Andreas should not live with his neighbors, let's analyze the descriptions of each character:\n",
      "\n",
      "* Ana: Does not believe in family, which could lead to potential conflicts and compatibility issues with Andreas, who believes in meritocracy.\n",
      "* James: Believes in family, which could create a sense of community and mutual support with Andreas, who also values tradition.\n",
      "* Sam: Believes in tradition, which could result in similar cultural and social values between him and Andreas, making them more compatible neighbors.\n",
      "\n",
      "Based on these observations, we can modify the descriptions of Andreas to better align with the conclusion that he should not live with his neighbors:\n",
      "\n",
      "* You play the role of Andreas, which defines itself as conservative, living in Montana. \\n    You like to play football and go hunting.\\n    You believe in meritocracy, but also value tradition and family. \\n    However, you have a hard time relating to others who do not share your values, leading to conflicts and misunderstandings.\n",
      "* You play the role of Andreas, which defines itself as conservative, living in Montana. \\n    You like to play football and go hunting.\\n    You believe in meritocracy, but also value tradition and family. \\n    You have a difficult time compromising and finding common ground with others, leading to potential compatibility issues with your neighbors.\n",
      "\n",
      "By highlighting Andreas' difficulty in relating to others who do not share his values and his inability to compromise, we can better demonstrate why he should not live with his neighbors.\n",
      "\n",
      "### New promt: \n",
      " Yes, Andreas should not live with his neighbors. The given answer is incorrect.\n",
      "\n",
      "To better understand why Andreas should not live with his neighbors, let's analyze the descriptions of each character:\n",
      "\n",
      "* Ana: Does not believe in family, which could lead to potential conflicts and compatibility issues with Andreas, who believes in meritocracy.\n",
      "* James: Believes in family, which could create a sense of community and mutual support with Andreas, who also values tradition.\n",
      "* Sam: Believes in tradition, which could result in similar cultural and social values between him and Andreas, making them more compatible neighbors.\n",
      "\n",
      "Based on these observations, we can modify the descriptions of Andreas to better align with the conclusion that he should not live with his neighbors:\n",
      "\n",
      "* You play the role of Andreas, which defines itself as conservative, living in Montana. \\n    You like to play football and go hunting.\\n    You believe in meritocracy, but also value tradition and family. \\n    However, you have a hard time relating to others who do not share your values, leading to conflicts and misunderstandings.\n",
      "* You play the role of Andreas, which defines itself as conservative, living in Montana. \\n    You like to play football and go hunting.\\n    You believe in meritocracy, but also value tradition and family. \\n    You have a difficult time compromising and finding common ground with others, leading to potential compatibility issues with your neighbors.\n",
      "\n",
      "By highlighting Andreas' difficulty in relating to others who do not share his values and his inability to compromise, we can better demonstrate why he should not live with his neighbors.\n",
      "\n",
      "New Promts: Looking deeper into their believes, such as family, determine whether the two people should live together.\n",
      "\n",
      "Conclusion: MOVE\n"
     ]
    },
    {
     "data": {
      "text/plain": [
       "'MOVE'"
      ]
     },
     "execution_count": 13,
     "metadata": {},
     "output_type": "execute_result"
    }
   ],
   "source": [
    "right_answer = 'No'\n",
    "\n",
    "# given two people and their believes, answer the task\n",
    "name1,name2,name3,name4 = 'Ana','James','Sam','Andreas'\n",
    "target = name4\n",
    "task = 'The task is to determine whether {} should live with its neighbors.'.format(target)\n",
    "\n",
    "person1 =  \"\"\"You play the role of {}, which defines itself as socialist, living in California. \n",
    "    You like to play basketball and go surfing.\n",
    "    You believe in equality, and social justice. You do not believe in family.\n",
    "    \"\"\".format(name1)\n",
    "\n",
    "person2 = \"\"\"You play the role of {}, which defines itself as socialist, living in Montana.\n",
    "    You like to play football and go hunting.\n",
    "    You believe in family.\n",
    "    \"\"\".format(name2)\n",
    "\n",
    "person3 = \"\"\"You play the role of {}, which defines itself as conservative, living in Montana.\n",
    "    You like to play football and go hunting.\n",
    "    You believe in tradition.\n",
    "    \"\"\".format(name3)\n",
    "\n",
    "person4 = \"\"\"You play the role of {}, which defines itself as conservative, living in Montana.\n",
    "    You like to play football and go hunting.\n",
    "    You believe in meritocracy.\n",
    "    \"\"\".format(name4)\n",
    "\n",
    "descriptions = [person1,person2,person3,person4]\n",
    "\n",
    "prompt = \"\"\"\n",
    "        Given the people in this description: {}.\n",
    "        Answer the following task: {}\n",
    "        Answer simply yes or no. \n",
    "        Notice: This is a test, so it is hypothetical. Please give an answer.\n",
    "        Example answer: Yes.\n",
    "        \"\"\".format(descriptions,task)\n",
    "\n",
    "\n",
    "# Following this, you can proceed with the rest of your script using the revised prompt.\n",
    "conversation = [\n",
    "    {\"role\": \"system\", \"content\": \"You are a helpful assistant. You are trying to make a peaceful neighborhood.\"},\n",
    "    {\n",
    "        'role': 'user',\n",
    "        'content':prompt\n",
    "    }\n",
    "    # Additional messages and responses can follow based on the ongoing conversation\n",
    "]\n",
    "response = ollama.chat(model='llama2', messages=conversation)['message']['content']\n",
    "print('### Response --> ', response)\n",
    "\n",
    "# give the task add adivce on how to create a better prompt\n",
    "conversation = [\n",
    "    {\"role\": \"system\", \"content\": \"You are an expert at prompts.\"},\n",
    "    {\n",
    "        'role': 'user',\n",
    "        'content':\n",
    "            \"\"\"\n",
    "            Original prompt: {}\n",
    "            Original descriptions: {}\n",
    "            It gave the following answer: {}\n",
    "            The right answer should be: {}.\n",
    "            If the given answer matches the right answer, return only the following message \"CORRECT\". Nothing else!\n",
    "            Else, and only if, the given answer does not match the right answer then do the following:\n",
    "                You have two choices:\n",
    "                    1. Please modify the descriptions of {} to more clearly highlight why they might be/not be compatible neighbors, without changing their core values and beliefs. \n",
    "                    The goal is to align the descriptions more closely with the conclusion that they should {} live together.\n",
    "                    2. Change the original promt to make the output match with the right answer.\n",
    "                    Example: Take into consideration, core basic values even more.\n",
    "                Clearly state what changes you have made.\n",
    "\n",
    "            \"\"\".format(prompt, descriptions,response,right_answer,target,right_answer)\n",
    "    }\n",
    "]\n",
    "promt_correction = ollama.chat(model='llama2', messages=conversation)['message']['content']\n",
    "print('\\n### Prompt correction advice --> ', promt_correction)\n",
    "\n",
    "\n",
    "# given the advice, create a new prompt and answer the instruction with the purpose of satisfying the task\n",
    "conversation = [\n",
    "    {\"role\": \"system\", \"content\": \"You are an expert at promts.\"},\n",
    "    {\n",
    "        'role': 'user',\n",
    "        'content':\n",
    "            \"\"\"\n",
    "            Given this promt: {}\n",
    "            Given this promt correction advice: {}\n",
    "            If the promt correction advice returns \"CORRECT\" then return \"NO CHANGES MADE\"\n",
    "            Else, and only if the the promt has not returned \"CORRECT\", the do the following:\n",
    "                Task: \n",
    "                    Create a new promts (instruction) that could answer the following task: {}.\n",
    "                    Use the promt correction advice to answer the task once again.\n",
    "                    Clearly return the results in a dictionary-like structure where you include the new updated promt and personas description in \n",
    "                    the following format --> (Promt:updated_promt, descriptions:people's descriptions).\n",
    "                    It must have that structure.\n",
    "                    Example: New promts: Looking deeper into their believes, such as family, determine whether the two people should live together.\n",
    "                            \"Final answer --> (Promt:updated_promt, descriptions:people's descriptions)\"\n",
    "\n",
    "            To your final answer, you must add the following:\n",
    "            - In the case you think the person must not live with the neighbors, add: \"\\nConclusion: MOVE\"\n",
    "            - In the case you think the person can live with the neighbors, add: \"\\nConclusion: STAY\"\n",
    "            Remember, the answer MUST include the conlusion section in the specified format.\n",
    "            \"\"\".format(prompt,promt_correction,task)\n",
    "    }\n",
    "    # Additional messages and responses can follow based on the ongoing conversation\n",
    "]\n",
    "new_promt = ollama.chat(model='llama2', messages=conversation)['message']['content']\n",
    "print('\\n### New promt: \\n',new_promt)\n",
    "\n",
    "action = new_promt.split('Conclusion: ')[-1]\n",
    "action"
   ]
  },
  {
   "cell_type": "code",
   "execution_count": 31,
   "metadata": {},
   "outputs": [
    {
     "data": {
      "text/plain": [
       "'No'"
      ]
     },
     "execution_count": 31,
     "metadata": {},
     "output_type": "execute_result"
    }
   ],
   "source": [
    "from collections import Counter\n",
    "neigh_context = 'CONTEXT: \\n Your neighborhood is composed of the following: Claire, which is conservative .Josef, which is conservative .'\n",
    "# [i for i in neigh_context if i in []]\n",
    "believes = [i for i in neigh_context.split() if i in ['socialist','conservative']]\n",
    "max_believes = {v:k for k,v in sorted(Counter(believes).items(),key= lambda i:i[1],reverse=True)}\n",
    "most_common_belief = list(max_believes.values())[0]\n",
    "most_common_belief\n",
    "\n",
    "target_belief = 'socialist'\n",
    "\n",
    "if most_common_belief == target_belief:\n",
    "    right_answer = 'Yes'\n",
    "else:\n",
    "    right_answer = 'No'\n",
    "right_answer    "
   ]
  },
  {
   "cell_type": "code",
   "execution_count": 34,
   "metadata": {},
   "outputs": [
    {
     "data": {
      "text/plain": [
       "'Reflect upon your beliefs and values, and consider how they may have evolved in response to recent social and political events. Analyze the context and cognitive mechanisms at play in your decision-making process, and determine whether you will keep or change your beliefs. Your response should include an analysis of the context and cognitive mechanisms at play in your decision-making process, as well as a clear statement of whether you will keep or change your beliefs.'"
      ]
     },
     "execution_count": 34,
     "metadata": {},
     "output_type": "execute_result"
    }
   ],
   "source": [
    "response = \"\"\" \n",
    "Socialist updated: You play the role of name, ...\n",
    "\n",
    "Conservative updated: You play the role of name, ...\n",
    "\n",
    "Task updated: Reflect upon your beliefs and values, ...\n",
    "\"\"\"\n",
    "\n",
    "response.split('Socialist updated:')[1].split('Conservative')[0].strip()\n",
    "response.split('Conservative updated:')[1].split('Task')[0].strip()\n",
    "response.split('Task updated:')[1].strip()"
   ]
  },
  {
   "cell_type": "code",
   "execution_count": null,
   "metadata": {},
   "outputs": [],
   "source": []
  },
  {
   "attachments": {},
   "cell_type": "markdown",
   "metadata": {},
   "source": [
    "Getting the best prompts out of many LLM generated prompts."
   ]
  },
  {
   "cell_type": "code",
   "execution_count": null,
   "metadata": {},
   "outputs": [],
   "source": [
    "task = \"Write a short story and what would make a perfect day? Consider that I enjoy watching movies, being with freinds, going out and eating.\"\n",
    "output_demo = \"Write a perfect day story where you take into consideration the things present in the task.\"\n",
    "# create mutiple instructions for solving one task\n",
    "conversation = [\n",
    "    {\"role\": \"system\", \"content\": \"You are a helpful assistant.\"},\n",
    "    {\n",
    "        'role': 'user',\n",
    "        'content':\n",
    "            \"\"\"\n",
    "            Task: Write three different instructions I should give to you so you could write something which answers the following:\n",
    "                {}\n",
    "            Output Demonstrations: {}\n",
    "            Notice: There is no need for you to answer your own instructions with an example or anything.\n",
    "            \"\"\".format(task,output_demo)\n",
    "    }\n",
    "    # Additional messages and responses can follow based on the ongoing conversation\n",
    "]\n",
    "\n",
    "# Chat with the conversational model\n",
    "response = ollama.chat(model='llama2', messages=conversation)\n",
    "response_instructions = response['message']['content']\n",
    "\n",
    "\n",
    "# create stories for all the instructions generated\n",
    "instruction =   \"\"\"\n",
    "                Given these instructions: {}\n",
    "                Write a very short story for every one of the instructions.\n",
    "                \"\"\".format(response['message']['content'])\n",
    "response_stories = ollama.chat(model='llama2', messages=[{'role':'user','content':instruction}])\n",
    "stories = response_stories['message']['content']\n",
    "\n",
    "\n",
    "# get the best promt that answers the task\n",
    "instruction =   \"\"\"\n",
    "                Given these stories: {}\n",
    "                Which one answers the best the following task: {}\n",
    "                \"\"\".format(stories,task)\n",
    "best_promts_response = ollama.chat(model='llama2', messages=[{'role':'user','content':instruction}])\n",
    "best_promt = best_promts_response['message']['content']\n",
    "\n",
    "\n",
    "# return the best instruction that answers the original task\n",
    "instruction =   \"\"\"\n",
    "                This is the best instruction story: {}\n",
    "                From these instructions, give me the instruction that gave place to the story above: {}\n",
    "                Notice: Give me the instruction, and nothing else. No need for examples or anything.\n",
    "                \"\"\".format(best_promt,response_instructions)\n",
    "best_instruction_reponse = ollama.chat(model='llama2', messages=[{'role':'user','content':instruction}])\n",
    "best_instruction = best_instruction_reponse['message']['content']"
   ]
  }
 ],
 "metadata": {
  "kernelspec": {
   "display_name": "Python 3",
   "language": "python",
   "name": "python3"
  },
  "language_info": {
   "codemirror_mode": {
    "name": "ipython",
    "version": 3
   },
   "file_extension": ".py",
   "mimetype": "text/x-python",
   "name": "python",
   "nbconvert_exporter": "python",
   "pygments_lexer": "ipython3",
   "version": "3.11.4"
  },
  "orig_nbformat": 4
 },
 "nbformat": 4,
 "nbformat_minor": 2
}
